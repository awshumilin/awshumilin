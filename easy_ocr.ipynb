{
  "nbformat": 4,
  "nbformat_minor": 0,
  "metadata": {
    "colab": {
      "provenance": [],
      "collapsed_sections": [],
      "authorship_tag": "ABX9TyOZoom51wJ1sXFiegE/kUJC",
      "include_colab_link": true
    },
    "kernelspec": {
      "name": "python3",
      "display_name": "Python 3"
    },
    "language_info": {
      "name": "python"
    },
    "accelerator": "GPU",
    "gpuClass": "standard"
  },
  "cells": [
    {
      "cell_type": "markdown",
      "metadata": {
        "id": "view-in-github",
        "colab_type": "text"
      },
      "source": [
        "<a href=\"https://colab.research.google.com/github/awshumilin/awshumilin/blob/main/easy_ocr.ipynb\" target=\"_parent\"><img src=\"https://colab.research.google.com/assets/colab-badge.svg\" alt=\"Open In Colab\"/></a>"
      ]
    },
    {
      "cell_type": "code",
      "execution_count": null,
      "metadata": {
        "colab": {
          "base_uri": "https://localhost:8080/"
        },
        "id": "d4qJgymp2mKR",
        "outputId": "9b18cf25-ffba-4253-9151-ace2499bc6b2"
      },
      "outputs": [
        {
          "output_type": "stream",
          "name": "stdout",
          "text": [
            "Looking in indexes: https://pypi.org/simple, https://us-python.pkg.dev/colab-wheels/public/simple/\n",
            "Requirement already satisfied: easyocr in /usr/local/lib/python3.7/dist-packages (1.6.2)\n",
            "Requirement already satisfied: Pillow in /usr/local/lib/python3.7/dist-packages (from easyocr) (7.1.2)\n",
            "Requirement already satisfied: PyYAML in /usr/local/lib/python3.7/dist-packages (from easyocr) (6.0)\n",
            "Requirement already satisfied: Shapely in /usr/local/lib/python3.7/dist-packages (from easyocr) (1.8.5.post1)\n",
            "Requirement already satisfied: opencv-python-headless<=4.5.4.60 in /usr/local/lib/python3.7/dist-packages (from easyocr) (4.5.4.60)\n",
            "Requirement already satisfied: numpy in /usr/local/lib/python3.7/dist-packages (from easyocr) (1.21.6)\n",
            "Requirement already satisfied: python-bidi in /usr/local/lib/python3.7/dist-packages (from easyocr) (0.4.2)\n",
            "Requirement already satisfied: ninja in /usr/local/lib/python3.7/dist-packages (from easyocr) (1.11.1)\n",
            "Requirement already satisfied: scikit-image in /usr/local/lib/python3.7/dist-packages (from easyocr) (0.18.3)\n",
            "Requirement already satisfied: scipy in /usr/local/lib/python3.7/dist-packages (from easyocr) (1.7.3)\n",
            "Requirement already satisfied: pyclipper in /usr/local/lib/python3.7/dist-packages (from easyocr) (1.3.0.post3)\n",
            "Requirement already satisfied: torch in /usr/local/lib/python3.7/dist-packages (from easyocr) (1.12.1+cu113)\n",
            "Requirement already satisfied: torchvision>=0.5 in /usr/local/lib/python3.7/dist-packages (from easyocr) (0.13.1+cu113)\n",
            "Requirement already satisfied: requests in /usr/local/lib/python3.7/dist-packages (from torchvision>=0.5->easyocr) (2.23.0)\n",
            "Requirement already satisfied: typing-extensions in /usr/local/lib/python3.7/dist-packages (from torchvision>=0.5->easyocr) (4.1.1)\n",
            "Requirement already satisfied: six in /usr/local/lib/python3.7/dist-packages (from python-bidi->easyocr) (1.15.0)\n",
            "Requirement already satisfied: chardet<4,>=3.0.2 in /usr/local/lib/python3.7/dist-packages (from requests->torchvision>=0.5->easyocr) (3.0.4)\n",
            "Requirement already satisfied: idna<3,>=2.5 in /usr/local/lib/python3.7/dist-packages (from requests->torchvision>=0.5->easyocr) (2.10)\n",
            "Requirement already satisfied: certifi>=2017.4.17 in /usr/local/lib/python3.7/dist-packages (from requests->torchvision>=0.5->easyocr) (2022.9.24)\n",
            "Requirement already satisfied: urllib3!=1.25.0,!=1.25.1,<1.26,>=1.21.1 in /usr/local/lib/python3.7/dist-packages (from requests->torchvision>=0.5->easyocr) (1.24.3)\n",
            "Requirement already satisfied: imageio>=2.3.0 in /usr/local/lib/python3.7/dist-packages (from scikit-image->easyocr) (2.9.0)\n",
            "Requirement already satisfied: matplotlib!=3.0.0,>=2.0.0 in /usr/local/lib/python3.7/dist-packages (from scikit-image->easyocr) (3.2.2)\n",
            "Requirement already satisfied: PyWavelets>=1.1.1 in /usr/local/lib/python3.7/dist-packages (from scikit-image->easyocr) (1.3.0)\n",
            "Requirement already satisfied: networkx>=2.0 in /usr/local/lib/python3.7/dist-packages (from scikit-image->easyocr) (2.6.3)\n",
            "Requirement already satisfied: tifffile>=2019.7.26 in /usr/local/lib/python3.7/dist-packages (from scikit-image->easyocr) (2021.11.2)\n",
            "Requirement already satisfied: cycler>=0.10 in /usr/local/lib/python3.7/dist-packages (from matplotlib!=3.0.0,>=2.0.0->scikit-image->easyocr) (0.11.0)\n",
            "Requirement already satisfied: kiwisolver>=1.0.1 in /usr/local/lib/python3.7/dist-packages (from matplotlib!=3.0.0,>=2.0.0->scikit-image->easyocr) (1.4.4)\n",
            "Requirement already satisfied: pyparsing!=2.0.4,!=2.1.2,!=2.1.6,>=2.0.1 in /usr/local/lib/python3.7/dist-packages (from matplotlib!=3.0.0,>=2.0.0->scikit-image->easyocr) (3.0.9)\n",
            "Requirement already satisfied: python-dateutil>=2.1 in /usr/local/lib/python3.7/dist-packages (from matplotlib!=3.0.0,>=2.0.0->scikit-image->easyocr) (2.8.2)\n"
          ]
        }
      ],
      "source": [
        "!pip3 install easyocr"
      ]
    },
    {
      "cell_type": "code",
      "source": [
        "import os\n",
        "import easyocr\n",
        "import cv2\n",
        "import numpy as np\n",
        "from PIL import Image\n",
        "from os import walk"
      ],
      "metadata": {
        "id": "dkHodK0R2629"
      },
      "execution_count": null,
      "outputs": []
    },
    {
      "cell_type": "code",
      "source": [
        "# переделываем png в jpeg \n",
        "im = Image.open(\"4.png\")\n",
        "bg = Image.new(\"RGB\", im.size, (255,255,255))\n",
        "bg.paste(im,im)\n",
        "bg.save(\"4.jpeg\")\n",
        "\n",
        "# получаем список всех картинок\n",
        "filenames = next(walk('/content/'), (None, None, []))[2]\n",
        "\n",
        "filenames.remove('4.png')"
      ],
      "metadata": {
        "id": "O2egt4_4-54J"
      },
      "execution_count": null,
      "outputs": []
    },
    {
      "cell_type": "code",
      "source": [
        "results = []\n",
        "\n",
        "# итерируемся по файлам\n",
        "for f in filenames:\n",
        "  img = Image.open(f)\n",
        "  w, h = img.size\n",
        "  # вырезаем часть картинки, в которой содержится ФИО (скорее всего). Здесь еще можно подобрать\n",
        "  # лучшие параметры\n",
        "  img_crop = img.crop((w // 3, h // 2, w *5 // 6, h * 7 // 10)).save('temp.jpeg')\n",
        "  IMAGE_PATH = 'temp.jpeg'\n",
        "  reader = easyocr.Reader(['ru'])\n",
        "  result = reader.readtext(IMAGE_PATH, paragraph=\"False\")\n",
        "  # забираем только текст\n",
        "  text = [x[1] for x in result]\n",
        "  results.append([f, text])\n",
        "\n",
        "# удаляем временный файл\n",
        "os.remove('temp.jpeg')"
      ],
      "metadata": {
        "id": "GBabG1Td7SqI"
      },
      "execution_count": null,
      "outputs": []
    },
    {
      "cell_type": "code",
      "source": [
        "# можно улучшить результаты, если индивидуально подобрать рамку для ФИО в каждой картинке\n",
        "results"
      ],
      "metadata": {
        "colab": {
          "base_uri": "https://localhost:8080/"
        },
        "id": "FjkXjUsk3AhX",
        "outputId": "7e1ec95e-1b88-4ddf-8bcb-56dd603a7580"
      },
      "execution_count": null,
      "outputs": [
        {
          "output_type": "execute_result",
          "data": {
            "text/plain": [
              "[['7.jpeg', ['ИМЯРЕК', '4риХ', 'ЕВГЕНИЙ', 'АЛЕКСАНДРОВИЧ', 'Отчегтво']],\n",
              " ['4.jpeg', ['соколов', 'АНДРРИ', '\"Наши']],\n",
              " ['6.jpeg', ['ШАСЛЕ ВСКи#', 'ГРКГОР*я ПЕтРОВИЧ']],\n",
              " ['9.jpeg',\n",
              "  ['\": ` #МАКАЕВА',\n",
              "   '~',\n",
              "   'Фалпния',\n",
              "   'Эф',\n",
              "   'КАНН НАФ АНАТОЛЪЕВНА Отчество ЖЕН : ротдения О9.05.1а77 Лол Место тэтртмве']],\n",
              " ['2.jpeg', ['ШАПОШНИКОВА', 'ВИКТОРИЯ', 'НИКОЛАЕВНА']],\n",
              " ['5.jpeg', ['МАКАРОВ', 'РОМАН', 'ЮРЬЕВИЧ']],\n",
              " ['3.jpeg', ['Фаммлня', 'ДАЙМОНД', 'Пя', 'ДМИТРИЙ', '0тисстнб', 'АЛЕКСЕЕВИЧ']],\n",
              " ['1.jpeg', ['ХАЛАБУДИНА', 'ЮЛИЯ', 'АЛЕКСЕЕВНА']],\n",
              " ['0.jpeg', ['ТРАМП', 'ДОНАЛЬД джон']],\n",
              " ['8.jpeg', []]]"
            ]
          },
          "metadata": {},
          "execution_count": 11
        }
      ]
    },
    {
      "cell_type": "code",
      "source": [],
      "metadata": {
        "id": "ITtb6bnJBx71"
      },
      "execution_count": null,
      "outputs": []
    }
  ]
}